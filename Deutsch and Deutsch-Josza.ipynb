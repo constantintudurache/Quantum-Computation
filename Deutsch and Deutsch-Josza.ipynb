{
 "cells": [
  {
   "cell_type": "markdown",
   "id": "dcf10882-77fb-4540-88ff-6f4e2a085a16",
   "metadata": {
    "tags": []
   },
   "source": [
    "# Deutsch and Deutsch-Josza algorithms"
   ]
  },
  {
   "cell_type": "code",
   "execution_count": 30,
   "id": "e5d2135e-d424-4dde-bf85-af8853912ef7",
   "metadata": {
    "tags": []
   },
   "outputs": [],
   "source": [
    "# Importing standard Qiskit libraries\n",
    "from qiskit import QuantumCircuit, QuantumRegister, ClassicalRegister, transpile\n",
    "from qiskit.extensions import UnitaryGate\n",
    "from qiskit.tools.jupyter import *\n",
    "from qiskit.visualization import *\n",
    "from qiskit_aer import *\n",
    "import numpy as np\n",
    "\n",
    "\n",
    "# qiskit-ibmq-provider has been deprecated.\n",
    "# Please see the Migration Guides in https://ibm.biz/provider_migration_guide for more detail.\n",
    "# from qiskit_ibm_runtime import QiskitRuntimeService, Sampler, Estimator, Session, Options\n",
    "\n",
    "# Loading your IBM Quantum account(s)\n",
    "# service = QiskitRuntimeService(channel=\"ibm_quantum\")"
   ]
  },
  {
   "cell_type": "markdown",
   "id": "47141b18-556d-4f73-b83f-88193023582b",
   "metadata": {
    "tags": []
   },
   "source": [
    "## Defining a 1 bit XOR oracle"
   ]
  },
  {
   "cell_type": "markdown",
   "id": "f598524d-0bf6-4c3c-83fa-d6b07a713e01",
   "metadata": {
    "tags": []
   },
   "source": [
    "Defining the oracle"
   ]
  },
  {
   "cell_type": "code",
   "execution_count": 31,
   "id": "37083004-3bdb-4b47-bae3-8654fa2d4816",
   "metadata": {
    "tags": []
   },
   "outputs": [],
   "source": [
    "def ket(i):\n",
    "    if i==0:\n",
    "        return(np.matrix([[1],[0]]))\n",
    "    else:\n",
    "        return(np.matrix([[0],[1]]))\n",
    "def bra(i):\n",
    "    return(ket(i).H)\n",
    "    \n",
    "def Oracle(f):\n",
    "    unitary = np.matrix([[0 for i in range(4)] for j in range(4)])\n",
    "    for b in range(2):\n",
    "        if f(b)==0:\n",
    "            unitary += np.kron(np.matrix([[1,0],[0,1]]),ket(b) @ bra(b)) ## kron is the kronecker product, @ is the matrix product.\n",
    "        else:\n",
    "            unitary += np.kron(np.matrix([[0,1],[1,0]]),ket(b) @ bra(b))\n",
    "    return(UnitaryGate(unitary,label='U_f'))\n",
    "            "
   ]
  },
  {
   "cell_type": "code",
   "execution_count": 32,
   "id": "c973d83e-8ef8-4ff3-bcfb-922c6aac4432",
   "metadata": {
    "tags": []
   },
   "outputs": [],
   "source": [
    "def f1(x):\n",
    "    if x==0:\n",
    "        return(1)\n",
    "    else:\n",
    "        return(0)\n",
    "\n",
    "def f2(x):\n",
    "    return(0)"
   ]
  },
  {
   "cell_type": "code",
   "execution_count": 33,
   "id": "c6dc5b3a-53cd-4150-ab5c-1d546a022e97",
   "metadata": {
    "tags": []
   },
   "outputs": [
    {
     "data": {
      "image/png": "[encoded data removed]",
      "text/plain": [
       "<Figure size 221.914x200.667 with 1 Axes>"
      ]
     },
     "execution_count": 33,
     "metadata": {},
     "output_type": "execute_result"
    }
   ],
   "source": [
    "qr = QuantumRegister(2)\n",
    "qc = QuantumCircuit(qr)\n",
    "\n",
    "qc.append(Oracle(f1), qr)\n",
    "\n",
    "qc.draw('mpl')\n",
    "\n",
    "#Oracle(f2).to_matrix()"
   ]
  },
  {
   "cell_type": "markdown",
   "id": "4e95a89c-8133-4427-80da-40eb8d071fbd",
   "metadata": {
    "tags": []
   },
   "source": [
    "## Deutsch Algoritm"
   ]
  },
  {
   "cell_type": "markdown",
   "id": "2597798c-12c9-4906-8384-8f23bafad174",
   "metadata": {},
   "source": [
    "Create a quantum circuit implementing the Deutsch algorithm for a function $f\\colon\\{0,1\\}\\to\\{0,1\\}$ given as a parameter.\n",
    "\n",
    "Create a function that runs the circuit a single time and answers if $f$ is constant or balanced."
   ]
  },
  {
   "cell_type": "code",
   "execution_count": 37,
   "id": "85398367-46a5-40e2-83f7-6479603ed823",
   "metadata": {
    "tags": []
   },
   "outputs": [
    {
     "name": "stdout",
     "output_type": "stream",
     "text": [
      "f1 is  Balanced\n",
      "f2 is  Constant\n"
     ]
    }
   ],
   "source": [
    "def Deutsch_one_bit(O) :    \n",
    "    x = QuantumRegister(1, \"x\")\n",
    "    y = QuantumRegister(1, \"y\")\n",
    "    res = ClassicalRegister(1, 'res')\n",
    "\n",
    "    qc = QuantumCircuit(x, y)\n",
    "    qc.add_register(res)\n",
    "\n",
    "    qc.x(y)\n",
    "    qc.h(x)\n",
    "    qc.h(y)\n",
    "\n",
    "    qc.append(O, [x, y])\n",
    "\n",
    "    qc.h(x)\n",
    "\n",
    "    qc.measure(x, res)\n",
    "\n",
    "    # qc.draw('mpl')\n",
    "\n",
    "    aer_sim = Aer.get_backend('aer_simulator')\n",
    "    result = aer_sim.run(qc, shots=1, memory=True).result()\n",
    "    measured_bit = int(result.get_memory()[0])\n",
    "    \n",
    "    if (measured_bit == 1):\n",
    "        return \"Balanced\"  #measured 1 with 100% probability\n",
    "    else:\n",
    "        return \"Constant\"  #measured 0 with 100% probability\n",
    "    \n",
    "\n",
    "\n",
    "print(\"f1 is \", Deutsch_one_bit(Oracle(f1)))\n",
    "print(\"f2 is \", Deutsch_one_bit(Oracle(f2)))\n",
    "    "
   ]
  },
  {
   "cell_type": "code",
   "execution_count": null,
   "id": "0350c186-1585-4055-9739-af5e066d9902",
   "metadata": {},
   "outputs": [],
   "source": []
  },
  {
   "cell_type": "code",
   "execution_count": null,
   "id": "10e5ba9b-0aa6-4d95-84f7-fa39bc68f819",
   "metadata": {},
   "outputs": [],
   "source": []
  },
  {
   "cell_type": "markdown",
   "id": "b2db1a66-9686-42df-a30a-7c5e5f1134bf",
   "metadata": {
    "tags": []
   },
   "source": [
    "## Deutsch-Josza algorithm"
   ]
  },
  {
   "cell_type": "markdown",
   "id": "52efea2f-e740-4793-9a51-385d6d02b2de",
   "metadata": {},
   "source": [
    "Generalize the XOR oracle generation for $n>=1$ and a function $f\\colon\\{0,1\\}^n\\to\\{0,1\\}$."
   ]
  },
  {
   "cell_type": "code",
   "execution_count": 38,
   "id": "1fd10b0c-9107-4900-a10c-d49308b444d7",
   "metadata": {
    "tags": []
   },
   "outputs": [],
   "source": [
    "def ket_reg(n,x):\n",
    "    if x < 0 or x > 2**n-1:\n",
    "        return(-1)\n",
    "    output = [[0] for i in range(x)]+[[1]]+ [[0] for i in range(2**n-x-1)]\n",
    "    return(np.matrix(output))"
   ]
  },
  {
   "cell_type": "code",
   "execution_count": 39,
   "id": "5ff96db4-a246-4215-93ef-bf6c6b954bd5",
   "metadata": {
    "tags": []
   },
   "outputs": [],
   "source": [
    "def bra_reg(n,x):\n",
    "    return(ket_reg(n,x).H)"
   ]
  },
  {
   "cell_type": "code",
   "execution_count": 40,
   "id": "171e35e7-6d30-41a9-8110-23ec27e7f8f5",
   "metadata": {
    "tags": []
   },
   "outputs": [
    {
     "data": {
      "text/plain": [
       "matrix([[0],\n",
       "        [0],\n",
       "        [0],\n",
       "        [1],\n",
       "        [0],\n",
       "        [0],\n",
       "        [0],\n",
       "        [0]])"
      ]
     },
     "execution_count": 40,
     "metadata": {},
     "output_type": "execute_result"
    }
   ],
   "source": [
    "ket_reg(3,3)"
   ]
  },
  {
   "cell_type": "code",
   "execution_count": 41,
   "id": "70c10440-a669-45f9-a993-76347cfadbd8",
   "metadata": {
    "tags": []
   },
   "outputs": [
    {
     "data": {
      "text/plain": [
       "matrix([[0],\n",
       "        [0],\n",
       "        [0],\n",
       "        [1],\n",
       "        [0],\n",
       "        [0],\n",
       "        [0],\n",
       "        [0]])"
      ]
     },
     "execution_count": 41,
     "metadata": {},
     "output_type": "execute_result"
    }
   ],
   "source": [
    "np.kron(ket(0), np.kron(ket(1), ket(1)))"
   ]
  },
  {
   "cell_type": "code",
   "execution_count": 42,
   "id": "5024e008-d3cb-4dbb-9398-f964fa07a545",
   "metadata": {
    "tags": []
   },
   "outputs": [
    {
     "data": {
      "text/plain": [
       "matrix([[0, 0, 0, 0, 0, 1, 0, 0, 0, 0, 0, 0, 0, 0, 0, 0]])"
      ]
     },
     "execution_count": 42,
     "metadata": {},
     "output_type": "execute_result"
    }
   ],
   "source": [
    "bra_reg(4,5)"
   ]
  },
  {
   "cell_type": "code",
   "execution_count": 43,
   "id": "d1a2b9bb-14b8-4d93-b3cf-8201b7d8083d",
   "metadata": {
    "tags": []
   },
   "outputs": [],
   "source": [
    "def Oracle(n,f):\n",
    "    unitary = np.matrix([[0 for i in range(2**(n + 1))] for j in range(2**(n + 1))])\n",
    "    for b in range(2 ** n):\n",
    "        if f(b)==0:\n",
    "            unitary += np.kron(np.matrix([[1,0],[0,1]]),ket_reg(n, b) @ bra_reg(n, b)) ## kron is the kronecker product, @ is the matrix product.\n",
    "        else:\n",
    "            unitary += np.kron(np.matrix([[0,1],[1,0]]),ket_reg(n, b) @ bra_reg(n, b))\n",
    "    # print(unitary)\n",
    "    return(UnitaryGate(unitary,label='U_f'))\n",
    "    "
   ]
  },
  {
   "cell_type": "code",
   "execution_count": 44,
   "id": "9497be33-cbf5-4d1c-acd0-17fb5d06d0c8",
   "metadata": {
    "tags": []
   },
   "outputs": [],
   "source": [
    "def f3(x)->bool :\n",
    "    return 1\n",
    "\n",
    "def f4(x)->bool :\n",
    "    return x%2"
   ]
  },
  {
   "cell_type": "markdown",
   "id": "7fe7dcca-cc36-44df-bf02-400b5364be10",
   "metadata": {},
   "source": [
    "Implement the Deutsch-Josza algorithm"
   ]
  },
  {
   "cell_type": "code",
   "execution_count": 45,
   "id": "621559eb-7b3f-4271-8008-c34e0d656040",
   "metadata": {
    "tags": []
   },
   "outputs": [],
   "source": [
    "def Deutsch_Josza(n, O):\n",
    "    qub = []\n",
    "    qc = QuantumCircuit(0,0 )\n",
    "    cr = ClassicalRegister(n, \"res\")\n",
    "    qc.add_register(cr)\n",
    "    \n",
    "    for i in range(n):\n",
    "        qi = QuantumRegister(1, i)\n",
    "        qub.append(qi)\n",
    "        qc.add_register(qub[i])\n",
    "        qc.h(qub[i])\n",
    "    \n",
    "    minus = QuantumRegister(1, \"-\")\n",
    "    qc.add_register(minus)\n",
    "    qc.x(minus)\n",
    "    qc.h(minus)\n",
    "    qub.append(minus)\n",
    "    \n",
    "    qc.append(O, qub)\n",
    "    \n",
    "    \n",
    "    for i in range(len(qub) - 1) :\n",
    "        qc.h(qub[i])\n",
    "        # qc.measure(qub[i], res)\n",
    "        \n",
    "    qc.measure(list(range(n)),cr)\n",
    "        \n",
    "    # qc.draw('mpl')\n",
    "        \n",
    "    aer_sim = Aer.get_backend('aer_simulator')\n",
    "    result = aer_sim.run(qc, shots=1, memory=True).result()\n",
    "    measured_bits = result.get_memory()\n",
    "    \n",
    "    if(measured_bits[0].find(\"1\") != -1): #measured_bits[0] is the measured bitstring \n",
    "        return \"Balanced\"  #the bitstring with only 0s has been measured\n",
    "    else:\n",
    "        return \"Constant\"  #another random bitstring that contains at least a 1 has been measured\n",
    "\n",
    "\n"
   ]
  },
  {
   "cell_type": "code",
   "execution_count": 46,
   "id": "20e3801a-8ef6-43e1-8977-540b4f08680a",
   "metadata": {
    "tags": []
   },
   "outputs": [
    {
     "name": "stdout",
     "output_type": "stream",
     "text": [
      "f3 is  Constant\n",
      "f4 is  Balanced\n"
     ]
    }
   ],
   "source": [
    "print(\"f3 is \", Deutsch_Josza(4, Oracle(4 ,f3)))\n",
    "print(\"f4 is \", Deutsch_Josza(5 ,Oracle(5, f4)))"
   ]
  },
  {
   "cell_type": "code",
   "execution_count": null,
   "id": "0185bce1-edfc-4a45-a56b-8eaf3809e471",
   "metadata": {},
   "outputs": [],
   "source": []
  }
 ],
 "metadata": {
  "kernelspec": {
   "display_name": "Python 3 (ipykernel)",
   "language": "python",
   "name": "python3"
  },
  "language_info": {
   "codemirror_mode": {
    "name": "ipython",
    "version": 3
   },
   "file_extension": ".py",
   "mimetype": "text/x-python",
   "name": "python",
   "nbconvert_exporter": "python",
   "pygments_lexer": "ipython3",
   "version": "3.10.9"
  },
  "widgets": {
   "application/vnd.jupyter.widget-state+json": {
    "state": {
     "116d5a968dd840efbf54b9f9a4e28d67": {
      "model_module": "@jupyter-widgets/controls",
      "model_module_version": "2.0.0",
      "model_name": "HTMLModel",
      "state": {
       "layout": "IPY_MODEL_387501b9799747e48ccffbfdfb47c835",
       "style": "IPY_MODEL_53ea5f8bc289482fa6e506527bc5f131",
       "value": "<p style='font-family: IBM Plex Sans, Arial, Helvetica, sans-serif; font-size: 20px; font-weight: medium;'>Circuit Properties</p>"
      }
     },
     "18bf403082d2438fa494461924dbd301": {
      "model_module": "@jupyter-widgets/controls",
      "model_module_version": "2.0.0",
      "model_name": "ButtonStyleModel",
      "state": {
       "font_family": null,
       "font_size": null,
       "font_style": null,
       "font_variant": null,
       "font_weight": null,
       "text_color": null,
       "text_decoration": null
      }
     },
     "2025165c2ec344a3b08b5587438bd079": {
      "model_module": "@jupyter-widgets/controls",
      "model_module_version": "2.0.0",
      "model_name": "ButtonModel",
      "state": {
       "button_style": "primary",
       "description": "Clear",
       "layout": "IPY_MODEL_7a6fe6051d7e413eae31a7f441094411",
       "style": "IPY_MODEL_18bf403082d2438fa494461924dbd301",
       "tooltip": null
      }
     },
     "23782349f2f24eb1a4863a5d54c171db": {
      "model_module": "@jupyter-widgets/controls",
      "model_module_version": "2.0.0",
      "model_name": "HTMLStyleModel",
      "state": {
       "description_width": "",
       "font_size": null,
       "text_color": null
      }
     },
     "2aec181076524dba8561107a936fcf51": {
      "model_module": "@jupyter-widgets/base",
      "model_module_version": "2.0.0",
      "model_name": "LayoutModel",
      "state": {
       "margin": "0px 0px 0px 37px",
       "width": "600px"
      }
     },
     "2c8c823c42704c438f7bf4ecc21e7d79": {
      "model_module": "@jupyter-widgets/base",
      "model_module_version": "2.0.0",
      "model_name": "LayoutModel",
      "state": {
       "width": "70px"
      }
     },
     "334ff1218551497aa65cd17be02d2738": {
      "model_module": "@jupyter-widgets/controls",
      "model_module_version": "2.0.0",
      "model_name": "HTMLModel",
      "state": {
       "layout": "IPY_MODEL_8936ea7d41bb4d43ac8b96837b81c6a3",
       "style": "IPY_MODEL_23782349f2f24eb1a4863a5d54c171db",
       "value": "<h5>Message</h5>"
      }
     },
     "387501b9799747e48ccffbfdfb47c835": {
      "model_module": "@jupyter-widgets/base",
      "model_module_version": "2.0.0",
      "model_name": "LayoutModel",
      "state": {
       "margin": "0px 0px 10px 0px"
      }
     },
     "4f764f631bcd4446abae1dd522b100ca": {
      "model_module": "@jupyter-widgets/controls",
      "model_module_version": "2.0.0",
      "model_name": "GridBoxModel",
      "state": {
       "children": [
        "IPY_MODEL_2025165c2ec344a3b08b5587438bd079"
       ],
       "layout": "IPY_MODEL_8ae5d73780764fcfb04f941ad4bf2b16"
      }
     },
     "53ea5f8bc289482fa6e506527bc5f131": {
      "model_module": "@jupyter-widgets/controls",
      "model_module_version": "2.0.0",
      "model_name": "HTMLStyleModel",
      "state": {
       "description_width": "",
       "font_size": null,
       "text_color": null
      }
     },
     "609a7d7e23064e94b45a13369215c226": {
      "model_module": "@jupyter-widgets/controls",
      "model_module_version": "2.0.0",
      "model_name": "HTMLStyleModel",
      "state": {
       "description_width": "",
       "font_size": null,
       "text_color": null
      }
     },
     "721d9834154940959e1c3ea6563dcc25": {
      "model_module": "@jupyter-widgets/controls",
      "model_module_version": "2.0.0",
      "model_name": "HTMLModel",
      "state": {
       "layout": "IPY_MODEL_9412a8f8d6d64753af6984bc8d2bc7a1",
       "style": "IPY_MODEL_76c1056ad7ff4c21bac56df456b25712",
       "value": "<h5>Status</h5>"
      }
     },
     "76c1056ad7ff4c21bac56df456b25712": {
      "model_module": "@jupyter-widgets/controls",
      "model_module_version": "2.0.0",
      "model_name": "HTMLStyleModel",
      "state": {
       "description_width": "",
       "font_size": null,
       "text_color": null
      }
     },
     "76fd41fd12914c9a9e8fdea6c7aef34a": {
      "model_module": "@jupyter-widgets/controls",
      "model_module_version": "2.0.0",
      "model_name": "HTMLStyleModel",
      "state": {
       "description_width": "",
       "font_size": null,
       "text_color": null
      }
     },
     "7a6fe6051d7e413eae31a7f441094411": {
      "model_module": "@jupyter-widgets/base",
      "model_module_version": "2.0.0",
      "model_name": "LayoutModel",
      "state": {
       "grid_area": "right",
       "padding": "0px 0px 0px 0px",
       "width": "70px"
      }
     },
     "8315d8a5f0ae44799416fe5f4e49ad53": {
      "model_module": "@jupyter-widgets/controls",
      "model_module_version": "2.0.0",
      "model_name": "HTMLModel",
      "state": {
       "layout": "IPY_MODEL_2c8c823c42704c438f7bf4ecc21e7d79",
       "style": "IPY_MODEL_609a7d7e23064e94b45a13369215c226",
       "value": "<h5>Queue</h5>"
      }
     },
     "8918b7cb6d97443785f2d22fded8a9c2": {
      "model_module": "@jupyter-widgets/base",
      "model_module_version": "2.0.0",
      "model_name": "LayoutModel",
      "state": {
       "width": "190px"
      }
     },
     "8936ea7d41bb4d43ac8b96837b81c6a3": {
      "model_module": "@jupyter-widgets/base",
      "model_module_version": "2.0.0",
      "model_name": "LayoutModel",
      "state": {}
     },
     "8ae5d73780764fcfb04f941ad4bf2b16": {
      "model_module": "@jupyter-widgets/base",
      "model_module_version": "2.0.0",
      "model_name": "LayoutModel",
      "state": {
       "grid_template_areas": "\n                                       \". . . . right \"\n                                        ",
       "grid_template_columns": "20% 20% 20% 20% 20%",
       "width": "100%"
      }
     },
     "9412a8f8d6d64753af6984bc8d2bc7a1": {
      "model_module": "@jupyter-widgets/base",
      "model_module_version": "2.0.0",
      "model_name": "LayoutModel",
      "state": {
       "width": "95px"
      }
     },
     "9cd2937f9ed44e2ea8b82f94d5b91330": {
      "model_module": "@jupyter-widgets/controls",
      "model_module_version": "2.0.0",
      "model_name": "HTMLModel",
      "state": {
       "layout": "IPY_MODEL_8918b7cb6d97443785f2d22fded8a9c2",
       "style": "IPY_MODEL_76fd41fd12914c9a9e8fdea6c7aef34a",
       "value": "<h5>Job ID</h5>"
      }
     },
     "b01383b7cfaa4c38b02795bed392fca5": {
      "model_module": "@jupyter-widgets/controls",
      "model_module_version": "2.0.0",
      "model_name": "HTMLStyleModel",
      "state": {
       "description_width": "",
       "font_size": null,
       "text_color": null
      }
     },
     "bcacfe9c2cba491dbe3d4396bb442e3b": {
      "model_module": "@jupyter-widgets/base",
      "model_module_version": "2.0.0",
      "model_name": "LayoutModel",
      "state": {
       "width": "145px"
      }
     },
     "da087637b474493a806bfbfd8071f492": {
      "model_module": "@jupyter-widgets/controls",
      "model_module_version": "2.0.0",
      "model_name": "HBoxModel",
      "state": {
       "children": [
        "IPY_MODEL_9cd2937f9ed44e2ea8b82f94d5b91330",
        "IPY_MODEL_fcd29390975a4feb8b531caee96524fa",
        "IPY_MODEL_721d9834154940959e1c3ea6563dcc25",
        "IPY_MODEL_8315d8a5f0ae44799416fe5f4e49ad53",
        "IPY_MODEL_334ff1218551497aa65cd17be02d2738"
       ],
       "layout": "IPY_MODEL_2aec181076524dba8561107a936fcf51"
      }
     },
     "fcd29390975a4feb8b531caee96524fa": {
      "model_module": "@jupyter-widgets/controls",
      "model_module_version": "2.0.0",
      "model_name": "HTMLModel",
      "state": {
       "layout": "IPY_MODEL_bcacfe9c2cba491dbe3d4396bb442e3b",
       "style": "IPY_MODEL_b01383b7cfaa4c38b02795bed392fca5",
       "value": "<h5>Backend</h5>"
      }
     }
    },
    "version_major": 2,
    "version_minor": 0
   }
  }
 },
 "nbformat": 4,
 "nbformat_minor": 5
}
