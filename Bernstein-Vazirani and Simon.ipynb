{
 "cells": [
  {
   "cell_type": "markdown",
   "id": "dcf10882-77fb-4540-88ff-6f4e2a085a16",
   "metadata": {
    "tags": []
   },
   "source": [
    "# Bernstein-Vazirani and Simon algorithms"
   ]
  },
  {
   "cell_type": "code",
   "execution_count": 32,
   "id": "e5d2135e-d424-4dde-bf85-af8853912ef7",
   "metadata": {
    "tags": []
   },
   "outputs": [],
   "source": [
    "# Importing standard Qiskit libraries\n",
    "from qiskit import QuantumCircuit, QuantumRegister, ClassicalRegister, transpile\n",
    "from qiskit.extensions import UnitaryGate\n",
    "from qiskit.tools.jupyter import *\n",
    "from qiskit.visualization import *\n",
    "from qiskit_aer import *\n",
    "import numpy as np\n",
    "\n",
    "\n",
    "\n",
    "# qiskit-ibmq-provider has been deprecated.\n",
    "# Please see the Migration Guides in https://ibm.biz/provider_migration_guide for more detail.\n",
    "# from qiskit_ibm_runtime import QiskitRuntimeService, Sampler, Estimator, Session, Options\n",
    "\n",
    "# Loading your IBM Quantum account(s)\n",
    "# service = QiskitRuntimeService(channel=\"ibm_quantum\")"
   ]
  },
  {
   "cell_type": "markdown",
   "id": "47141b18-556d-4f73-b83f-88193023582b",
   "metadata": {
    "tags": []
   },
   "source": [
    "## Bernstein-Vazirani"
   ]
  },
  {
   "cell_type": "markdown",
   "id": "f598524d-0bf6-4c3c-83fa-d6b07a713e01",
   "metadata": {
    "tags": []
   },
   "source": [
    "You can use the circuit defined for Deutsch-Josza algorithm. Two adjustments must be made:\n",
    "1) The oracle must be adapted to depend on a bitstring c (the function f in Deutsch oracle is f(x)=c.x -inner product mod 2-)\n",
    "2) The output is the whole bitstring measured by the circuit (instead of just checking if the measure is 0000...0)."
   ]
  },
  {
   "cell_type": "code",
   "execution_count": 33,
   "id": "e683914a-4c2c-448e-bdbf-5548c6c15e97",
   "metadata": {
    "tags": []
   },
   "outputs": [],
   "source": [
    "def ket_reg(n,x):\n",
    "    if x < 0 or x > 2**n-1:\n",
    "        return(-1)\n",
    "    output = [[0] for i in range(x)]+[[1]]+ [[0] for i in range(2**n-x-1)]\n",
    "    return(np.matrix(output))"
   ]
  },
  {
   "cell_type": "code",
   "execution_count": 34,
   "id": "11afdedc-dce2-4c8b-9d14-ddde3cf9dfa9",
   "metadata": {
    "tags": []
   },
   "outputs": [],
   "source": [
    "def bra_reg(n,x):\n",
    "    return(ket_reg(n,x).H)"
   ]
  },
  {
   "cell_type": "code",
   "execution_count": 35,
   "id": "488ff207-ccb9-4b19-834e-de3dd6e3f209",
   "metadata": {
    "tags": []
   },
   "outputs": [],
   "source": [
    "def Oracle(n,f):\n",
    "    unitary = np.matrix([[0 for i in range(2**(n + 1))] for j in range(2**(n + 1))])\n",
    "    \n",
    "    for b in range(2 ** n):\n",
    "        if f(b)==0:\n",
    "            unitary += np.kron(np.matrix([[1,0],[0,1]]),ket_reg(n, b) @ bra_reg(n, b)) ## kron is the kronecker product, @ is the matrix product.\n",
    "        else:\n",
    "            unitary += np.kron(np.matrix([[0,1],[1,0]]),ket_reg(n, b) @ bra_reg(n, b))\n",
    "    # print(unitary)\n",
    "    return(UnitaryGate(unitary,label='U_f'))\n",
    "    "
   ]
  },
  {
   "cell_type": "code",
   "execution_count": 36,
   "id": "c49a8772-920b-47ed-9396-099516df758c",
   "metadata": {
    "tags": []
   },
   "outputs": [],
   "source": [
    "def f(n, c):\n",
    "    c = f'{c:0{n}b}'\n",
    "    def output(x):\n",
    "        x = f'{x:0{n}b}'\n",
    "        res = 0\n",
    "        for i in range(n):\n",
    "            res += (int(x[i]) * int(c[i]))\n",
    "        return res % 2\n",
    "        \n",
    "    return(output)\n",
    "    "
   ]
  },
  {
   "cell_type": "code",
   "execution_count": 37,
   "id": "da3da610-0139-4efb-90d1-9bb7fa78a185",
   "metadata": {
    "tags": []
   },
   "outputs": [],
   "source": [
    "def Bernstein_Vazirani(n, O):\n",
    "    qub = []\n",
    "    qc = QuantumCircuit(0,0 )\n",
    "    cr = ClassicalRegister(n, \"res\")\n",
    "    qc.add_register(cr)\n",
    "    \n",
    "    for i in range(n):\n",
    "        qi = QuantumRegister(1, i)\n",
    "        qub.append(qi)\n",
    "        qc.add_register(qub[i])\n",
    "        qc.h(qub[i])\n",
    "    \n",
    "    minus = QuantumRegister(1, \"-\");\n",
    "    qc.add_register(minus)\n",
    "    qc.x(minus)\n",
    "    qc.h(minus)\n",
    "    qub.append(minus)\n",
    "    \n",
    "    qc.append(O, qub)\n",
    "    \n",
    "    \n",
    "    for i in range(len(qub) - 1) :\n",
    "        qc.h(qub[i])\n",
    "        # qc.measure(qub[i], res)\n",
    "        \n",
    "    qc.measure(list(range(n)),cr)\n",
    "        \n",
    "    # qc.draw('mpl')\n",
    "        \n",
    "    aer_sim = Aer.get_backend('aer_simulator')\n",
    "    result = aer_sim.run(qc, shots=1, memory=True).result()\n",
    "    measured_bits = result.get_memory()\n",
    "    \n",
    "    return measured_bits\n"
   ]
  },
  {
   "cell_type": "code",
   "execution_count": 38,
   "id": "3d32b8c0-25eb-4f03-81f2-9d8bc5fe4ea1",
   "metadata": {
    "tags": []
   },
   "outputs": [
    {
     "data": {
      "text/plain": [
       "0"
      ]
     },
     "execution_count": 38,
     "metadata": {},
     "output_type": "execute_result"
    }
   ],
   "source": [
    "g = f(3,5)\n",
    "g(5) # the mask s = 101 which is 5 in base 10"
   ]
  },
  {
   "cell_type": "code",
   "execution_count": 39,
   "id": "86786559-ad6a-454c-a0c5-dc033ab271cb",
   "metadata": {
    "tags": []
   },
   "outputs": [
    {
     "name": "stdout",
     "output_type": "stream",
     "text": [
      "The mask found by the algorithm is ['101']\n"
     ]
    }
   ],
   "source": [
    "print(\"The mask found by the algorithm is\", Bernstein_Vazirani(3, Oracle(3,g))) "
   ]
  },
  {
   "cell_type": "markdown",
   "id": "54308104-afe6-4fdd-b422-e1b4fc2a8ce8",
   "metadata": {
    "tags": []
   },
   "source": [
    "## Simon"
   ]
  },
  {
   "cell_type": "markdown",
   "id": "74c1b796-0234-477f-b524-ad917cd91de4",
   "metadata": {},
   "source": [
    "The following function defines, given a bitstring mask s, a random $f:\\{ 0,1 \\}^n\\to \\{0,1\\}^n$ such that $f(x)=f(y)\\iff x=y\\oplus s$."
   ]
  },
  {
   "cell_type": "code",
   "execution_count": 40,
   "id": "1648c237-67a9-4047-89c0-af30658ad2a8",
   "metadata": {
    "tags": []
   },
   "outputs": [],
   "source": [
    "def Simon_f(s:str):\n",
    "    n = len(s)\n",
    "    per = np.random.permutation(n)\n",
    "    def f(x):\n",
    "        out1 = min (x, x ^ int(s,2))\n",
    "        out1 = f'{out1:0{n}b}'\n",
    "        out2 = \"\"\n",
    "        for i in range(n):\n",
    "            out2 = out2 + out1[per[i]]\n",
    "        return int(out2, 2)\n",
    "    return f   "
   ]
  },
  {
   "cell_type": "code",
   "execution_count": 31,
   "id": "c03883d3-81e7-4f1c-8cdc-7c7bcbcf3c7b",
   "metadata": {
    "tags": []
   },
   "outputs": [
    {
     "name": "stdout",
     "output_type": "stream",
     "text": [
      "9 9\n"
     ]
    }
   ],
   "source": [
    "g = Simon_f(\"1001\")\n",
    "print(g(3),g(10)) #the output should be the same random value of size 4 because 0011 XOR 1010 = 1001 "
   ]
  },
  {
   "cell_type": "markdown",
   "id": "f49240ad-7ab9-4657-b82a-d29b293cdd0e",
   "metadata": {
    "tags": []
   },
   "source": [
    "Now you must construct an XOR oracle associated to a function $f:\\{ 0,1 \\}^n\\to \\{0,1\\}^n$ of $n$ bits.\n",
    "\n",
    "Using the explicit expression of the oracle in terms of output of any input, $$U_f |x,y\\rangle = |x,y\\oplus f(x)\\rangle$$, then\n",
    "$$U_f = \\sum_{x\\in \\{0,1\\}^n} \\sum _{y\\in \\{0,1\\}^n} |x,y\\oplus f(x) \\rangle\\langle x,y|.$$"
   ]
  },
  {
   "cell_type": "code",
   "execution_count": 41,
   "id": "3c1e1c61-f4ad-49b6-a7d6-ac95d47ff9f0",
   "metadata": {
    "scrolled": true,
    "tags": []
   },
   "outputs": [],
   "source": [
    "def Oracle_S(n,f):\n",
    "    unitary = np.matrix([[0 for i in range(2**(2 * n))] for j in range(2**(2 * n))])\n",
    "    \n",
    "    for i in range(2**(n)):\n",
    "        for j in range(2**(n)):\n",
    "            unitary += np.kron(ket_reg(n, j^f(i)), ket_reg(n, i)) @ np.kron(bra_reg(n, j), bra_reg(n, i))   \n",
    "                       \n",
    "    return(UnitaryGate(unitary,label='U_f'))"
   ]
  },
  {
   "cell_type": "code",
   "execution_count": 42,
   "id": "94420759-deb2-4ac4-af41-a68d787f3ecf",
   "metadata": {
    "tags": []
   },
   "outputs": [
    {
     "name": "stdout",
     "output_type": "stream",
     "text": [
      "Instruction(name='unitary', num_qubits=8, num_clbits=0, params=[array([[1.+0.j, 0.+0.j, 0.+0.j, ..., 0.+0.j, 0.+0.j, 0.+0.j],\n",
      "       [0.+0.j, 0.+0.j, 0.+0.j, ..., 0.+0.j, 0.+0.j, 0.+0.j],\n",
      "       [0.+0.j, 0.+0.j, 1.+0.j, ..., 0.+0.j, 0.+0.j, 0.+0.j],\n",
      "       ...,\n",
      "       [0.+0.j, 0.+0.j, 0.+0.j, ..., 0.+0.j, 0.+0.j, 0.+0.j],\n",
      "       [0.+0.j, 0.+0.j, 0.+0.j, ..., 0.+0.j, 1.+0.j, 0.+0.j],\n",
      "       [0.+0.j, 0.+0.j, 0.+0.j, ..., 0.+0.j, 0.+0.j, 1.+0.j]])])\n"
     ]
    }
   ],
   "source": [
    "print(Oracle_S(4, g))"
   ]
  },
  {
   "cell_type": "markdown",
   "id": "21396cea-79aa-4423-9d06-dbf11605baa1",
   "metadata": {},
   "source": [
    "Then, you have to put the oracle inside of the full Simon's algorithm circuit and run it with $n+10$ shots (for error probability smaller than $10^{-3}$).\n",
    "\n",
    "You can use something as ```result = AerSimulator().run(quantum_circuit_name, shots=n+10, memory=True).result()```and access the measures with ```result.get_memory()```"
   ]
  },
  {
   "cell_type": "code",
   "execution_count": 44,
   "id": "9f891a72-6abd-4bd5-a6cd-2df860c7bab0",
   "metadata": {
    "tags": []
   },
   "outputs": [],
   "source": [
    "def Simon(n, O):   \n",
    "    qub = []\n",
    "    qc = QuantumCircuit(0,0 )\n",
    "    cr = ClassicalRegister( n, \"res\")\n",
    "    qc.add_register(cr)\n",
    "    \n",
    "    for i in range(n):\n",
    "        qi = QuantumRegister(1, i)\n",
    "        qub.append(qi)\n",
    "        qc.add_register(qub[i])\n",
    "        qc.h(qub[i])\n",
    "    \n",
    "    for i in range(n, 2 * n):\n",
    "        qi = QuantumRegister(1, i)\n",
    "        qub.append(qi)\n",
    "        qc.add_register(qub[i])\n",
    "    \n",
    "    qc.append(O, qub)\n",
    "    \n",
    "    \n",
    "    for i in range(len(qub)) :\n",
    "        qc.h(qub[i])\n",
    "    \n",
    "    qc.barrier()\n",
    "    \n",
    "    qc.measure(list(range(n)),cr)\n",
    "    \n",
    "    aer_sim = Aer.get_backend('aer_simulator')\n",
    "    result = aer_sim.run(qc, shots=n + 10, memory=True).result() #n queries + C, where C = 10 in order to get \n",
    "    # at least n linear independent pairs\n",
    "    measured_bits = result.get_memory()\n",
    "    \n",
    "    return measured_bits"
   ]
  },
  {
   "cell_type": "code",
   "execution_count": 51,
   "id": "af455b70-a54f-41fc-be01-b71df76366be",
   "metadata": {
    "tags": []
   },
   "outputs": [
    {
     "name": "stdout",
     "output_type": "stream",
     "text": [
      "The values of z measured are \n",
      " ['0000', '0000', '0000', '1101', '0000', '0000', '1101', '0000', '0000', '1101', '0000', '0010', '0000', '0000']\n"
     ]
    }
   ],
   "source": [
    "print(\"The values of z measured are \\n\", Simon(4, Oracle_S(4,g)))"
   ]
  },
  {
   "cell_type": "code",
   "execution_count": 47,
   "id": "6c9ba7f2-8f60-48e1-bbd9-7f885b136001",
   "metadata": {
    "tags": []
   },
   "outputs": [
    {
     "name": "stdout",
     "output_type": "stream",
     "text": [
      "['0000', '1010', '0000', '1101', '1010', '0101', '1101', '0101', '0000', '0010', '1010', '0000', '0000', '0000']\n"
     ]
    }
   ],
   "source": [
    "measurements = Simon(4, Oracle_S(4, g))\n",
    "print(measurements)\n",
    "# the system of equations formed by this measurement should be solved (in binary) and the solution is s, the mask"
   ]
  },
  {
   "cell_type": "markdown",
   "id": "2e75433a-2e72-484e-babc-f05158117f09",
   "metadata": {},
   "source": []
  },
  {
   "cell_type": "markdown",
   "id": "27a5bcd7-5147-4375-9071-d5b7e9b1955f",
   "metadata": {},
   "source": [
    "Finally, we need a procedure that classically solves the linear system (mod 2) posed by the $n+10$ measures. We saw that that is in turn equivalent to compute a nonzero vector of the nullspace of the matrix given by all the measures. You can use the ```galois``` library inside ```numpy```\n",
    "\n",
    "Somthing along the lines of\n",
    "``` import(galois)\n",
    "    matrix = np.array([list(bitstring) for bitstring in measurements]).astype(int)\n",
    "    null_space = galois.GF(2)(matrix).null_space()\n",
    "    display(null_space)\n"
   ]
  },
  {
   "cell_type": "code",
   "execution_count": 39,
   "id": "22cacec3-6fe8-4899-bb35-8bfe9f918052",
   "metadata": {
    "tags": []
   },
   "outputs": [
    {
     "name": "stdout",
     "output_type": "stream",
     "text": [
      "Traceback \u001b[1;36m(most recent call last)\u001b[0m:\n",
      "\u001b[1;36m  Cell \u001b[1;32mIn[39], line 2\u001b[1;36m\n",
      "\u001b[1;33m    import galois\u001b[1;36m\n",
      "\u001b[1;31mModuleNotFoundError\u001b[0m\u001b[1;31m:\u001b[0m No module named 'galois'\n",
      "\n",
      "Use %tb to get the full traceback.\n"
     ]
    },
    {
     "data": {
      "text/html": [
       "\n",
       "<style>\n",
       ".button {\n",
       "  border: none;\n",
       "  color: white;\n",
       "  padding: 4px 8px;\n",
       "  text-align: center;\n",
       "  text-decoration: none;\n",
       "  display: inline-block;\n",
       "  font-size: 12px;\n",
       "  margin: 4px 2px;\n",
       "  transition-duration: 0.2s;\n",
       "  cursor: pointer;\n",
       "}\n",
       ".iqx-button {\n",
       "  background-color: #0f62fe; \n",
       "  color: white; \n",
       "}\n",
       ".iqx-button:hover {\n",
       "  background-color: #0043ce;\n",
       "  color: white;\n",
       "}\n",
       "</style>\n",
       "<a href=\"https://stackoverflow.com/search?q=ModuleNotFoundError: No module named 'galois'\" target='_blank'><button class='button iqx-button'>Search for solution online</button></a>\n"
      ],
      "text/plain": [
       "<IPython.core.display.HTML object>"
      ]
     },
     "metadata": {},
     "output_type": "display_data"
    }
   ],
   "source": [
    "import numpy\n",
    "import galois\n",
    "matrix = np.array([list(bitstring) for bitstring in measurements]).astype(int)\n",
    "null_space = galois.GF(2)(matrix).null_space()\n",
    "display(null_space)"
   ]
  },
  {
   "cell_type": "code",
   "execution_count": null,
   "id": "38397c65-4a50-4d10-852b-c000978850cb",
   "metadata": {},
   "outputs": [],
   "source": []
  }
 ],
 "metadata": {
  "kernelspec": {
   "display_name": "Python 3 (ipykernel)",
   "language": "python",
   "name": "python3"
  },
  "language_info": {
   "codemirror_mode": {
    "name": "ipython",
    "version": 3
   },
   "file_extension": ".py",
   "mimetype": "text/x-python",
   "name": "python",
   "nbconvert_exporter": "python",
   "pygments_lexer": "ipython3",
   "version": "3.10.9"
  },
  "widgets": {
   "application/vnd.jupyter.widget-state+json": {
    "state": {
     "09a71558428c4d0fb5f4330a1fdb319c": {
      "model_module": "@jupyter-widgets/base",
      "model_module_version": "2.0.0",
      "model_name": "LayoutModel",
      "state": {
       "margin": "0px 0px 0px 37px",
       "width": "600px"
      }
     },
     "15ba74f10d7045aa99eafa9774c2be7c": {
      "model_module": "@jupyter-widgets/controls",
      "model_module_version": "2.0.0",
      "model_name": "HBoxModel",
      "state": {
       "children": [
        "IPY_MODEL_e5670767c6aa46c5b014e6989cc6c9c8",
        "IPY_MODEL_aec56abba5f1421a9852cfbb0334f41b",
        "IPY_MODEL_5250fd1af34943bcb02c6151253d4dda",
        "IPY_MODEL_f532091d15de46d2853089f01a29e801",
        "IPY_MODEL_c4c5bfb53954481a9177183a2ca1df36"
       ],
       "layout": "IPY_MODEL_09a71558428c4d0fb5f4330a1fdb319c"
      }
     },
     "240e7119fe4d4cb29c148f46318930aa": {
      "model_module": "@jupyter-widgets/controls",
      "model_module_version": "2.0.0",
      "model_name": "HTMLStyleModel",
      "state": {
       "description_width": "",
       "font_size": null,
       "text_color": null
      }
     },
     "32312562c3384053a1745f33ed683733": {
      "model_module": "@jupyter-widgets/controls",
      "model_module_version": "2.0.0",
      "model_name": "HTMLModel",
      "state": {
       "layout": "IPY_MODEL_641971abef374c76b4afe11f2ef9a13a",
       "style": "IPY_MODEL_240e7119fe4d4cb29c148f46318930aa",
       "value": "<p style='font-family: IBM Plex Sans, Arial, Helvetica, sans-serif; font-size: 20px; font-weight: medium;'>Circuit Properties</p>"
      }
     },
     "3e6e421192f84ac39f332d3b3a560215": {
      "model_module": "@jupyter-widgets/controls",
      "model_module_version": "2.0.0",
      "model_name": "GridBoxModel",
      "state": {
       "children": [
        "IPY_MODEL_5d45c6b5522c4ab2be55fd96c9b325e8"
       ],
       "layout": "IPY_MODEL_b7fd09bfdf5945ec9e052c04784b8069"
      }
     },
     "4d9048f1bf064ef5b068507970e695d1": {
      "model_module": "@jupyter-widgets/base",
      "model_module_version": "2.0.0",
      "model_name": "LayoutModel",
      "state": {
       "width": "190px"
      }
     },
     "5250fd1af34943bcb02c6151253d4dda": {
      "model_module": "@jupyter-widgets/controls",
      "model_module_version": "2.0.0",
      "model_name": "HTMLModel",
      "state": {
       "layout": "IPY_MODEL_907aa38fc50f4fa4b6f5895f5db1b1a3",
       "style": "IPY_MODEL_5692b29af7ad4430ab8196f62ee38636",
       "value": "<h5>Status</h5>"
      }
     },
     "5692b29af7ad4430ab8196f62ee38636": {
      "model_module": "@jupyter-widgets/controls",
      "model_module_version": "2.0.0",
      "model_name": "HTMLStyleModel",
      "state": {
       "description_width": "",
       "font_size": null,
       "text_color": null
      }
     },
     "59cfc854230d4729a2379e1a480d4b28": {
      "model_module": "@jupyter-widgets/base",
      "model_module_version": "2.0.0",
      "model_name": "LayoutModel",
      "state": {
       "width": "70px"
      }
     },
     "5d45c6b5522c4ab2be55fd96c9b325e8": {
      "model_module": "@jupyter-widgets/controls",
      "model_module_version": "2.0.0",
      "model_name": "ButtonModel",
      "state": {
       "button_style": "primary",
       "description": "Clear",
       "layout": "IPY_MODEL_75d31240fa7640fd98c49b3004ef223b",
       "style": "IPY_MODEL_c1f07137991f4b5089fcb51e5d5e5238",
       "tooltip": null
      }
     },
     "641971abef374c76b4afe11f2ef9a13a": {
      "model_module": "@jupyter-widgets/base",
      "model_module_version": "2.0.0",
      "model_name": "LayoutModel",
      "state": {
       "margin": "0px 0px 10px 0px"
      }
     },
     "75d31240fa7640fd98c49b3004ef223b": {
      "model_module": "@jupyter-widgets/base",
      "model_module_version": "2.0.0",
      "model_name": "LayoutModel",
      "state": {
       "grid_area": "right",
       "padding": "0px 0px 0px 0px",
       "width": "70px"
      }
     },
     "785898357e374d5587586e33f9228763": {
      "model_module": "@jupyter-widgets/controls",
      "model_module_version": "2.0.0",
      "model_name": "HTMLStyleModel",
      "state": {
       "description_width": "",
       "font_size": null,
       "text_color": null
      }
     },
     "907aa38fc50f4fa4b6f5895f5db1b1a3": {
      "model_module": "@jupyter-widgets/base",
      "model_module_version": "2.0.0",
      "model_name": "LayoutModel",
      "state": {
       "width": "95px"
      }
     },
     "a900b1cb369b4336a1a5cf852a8653aa": {
      "model_module": "@jupyter-widgets/controls",
      "model_module_version": "2.0.0",
      "model_name": "HTMLStyleModel",
      "state": {
       "description_width": "",
       "font_size": null,
       "text_color": null
      }
     },
     "aec56abba5f1421a9852cfbb0334f41b": {
      "model_module": "@jupyter-widgets/controls",
      "model_module_version": "2.0.0",
      "model_name": "HTMLModel",
      "state": {
       "layout": "IPY_MODEL_f7d29413cf544b46a49a9a0b2bdcebc4",
       "style": "IPY_MODEL_a900b1cb369b4336a1a5cf852a8653aa",
       "value": "<h5>Backend</h5>"
      }
     },
     "b7fd09bfdf5945ec9e052c04784b8069": {
      "model_module": "@jupyter-widgets/base",
      "model_module_version": "2.0.0",
      "model_name": "LayoutModel",
      "state": {
       "grid_template_areas": "\n                                       \". . . . right \"\n                                        ",
       "grid_template_columns": "20% 20% 20% 20% 20%",
       "width": "100%"
      }
     },
     "c1f07137991f4b5089fcb51e5d5e5238": {
      "model_module": "@jupyter-widgets/controls",
      "model_module_version": "2.0.0",
      "model_name": "ButtonStyleModel",
      "state": {
       "font_family": null,
       "font_size": null,
       "font_style": null,
       "font_variant": null,
       "font_weight": null,
       "text_color": null,
       "text_decoration": null
      }
     },
     "c4c5bfb53954481a9177183a2ca1df36": {
      "model_module": "@jupyter-widgets/controls",
      "model_module_version": "2.0.0",
      "model_name": "HTMLModel",
      "state": {
       "layout": "IPY_MODEL_dab66f4964f048af80eb3b44b10a1dba",
       "style": "IPY_MODEL_e39bb6b3796941dfb5a865186a331503",
       "value": "<h5>Message</h5>"
      }
     },
     "dab66f4964f048af80eb3b44b10a1dba": {
      "model_module": "@jupyter-widgets/base",
      "model_module_version": "2.0.0",
      "model_name": "LayoutModel",
      "state": {}
     },
     "e39bb6b3796941dfb5a865186a331503": {
      "model_module": "@jupyter-widgets/controls",
      "model_module_version": "2.0.0",
      "model_name": "HTMLStyleModel",
      "state": {
       "description_width": "",
       "font_size": null,
       "text_color": null
      }
     },
     "e5670767c6aa46c5b014e6989cc6c9c8": {
      "model_module": "@jupyter-widgets/controls",
      "model_module_version": "2.0.0",
      "model_name": "HTMLModel",
      "state": {
       "layout": "IPY_MODEL_4d9048f1bf064ef5b068507970e695d1",
       "style": "IPY_MODEL_785898357e374d5587586e33f9228763",
       "value": "<h5>Job ID</h5>"
      }
     },
     "f532091d15de46d2853089f01a29e801": {
      "model_module": "@jupyter-widgets/controls",
      "model_module_version": "2.0.0",
      "model_name": "HTMLModel",
      "state": {
       "layout": "IPY_MODEL_59cfc854230d4729a2379e1a480d4b28",
       "style": "IPY_MODEL_fb133d81d53d4e879c6dfc596cbdcd72",
       "value": "<h5>Queue</h5>"
      }
     },
     "f7d29413cf544b46a49a9a0b2bdcebc4": {
      "model_module": "@jupyter-widgets/base",
      "model_module_version": "2.0.0",
      "model_name": "LayoutModel",
      "state": {
       "width": "145px"
      }
     },
     "fb133d81d53d4e879c6dfc596cbdcd72": {
      "model_module": "@jupyter-widgets/controls",
      "model_module_version": "2.0.0",
      "model_name": "HTMLStyleModel",
      "state": {
       "description_width": "",
       "font_size": null,
       "text_color": null
      }
     }
    },
    "version_major": 2,
    "version_minor": 0
   }
  }
 },
 "nbformat": 4,
 "nbformat_minor": 5
}
